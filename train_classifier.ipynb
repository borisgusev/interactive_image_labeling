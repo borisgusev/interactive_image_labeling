{
 "cells": [
  {
   "cell_type": "code",
   "execution_count": null,
   "metadata": {},
   "outputs": [],
   "source": [
    "import pandas as pd\n",
    "import numpy as np\n",
    "import xgboost as xgb\n",
    "from sklearn.model_selection import train_test_split\n",
    "from towbintools.foundation.worm_features import compute_worm_length\n",
    "from towbintools.foundation.worm_features import compute_worm_volume\n",
    "from towbintools.foundation.worm_features import compute_worm_type_features\n",
    "from tifffile import imread\n",
    "import matplotlib.pyplot as plt\n",
    "from skimage.measure import regionprops\n",
    "from skimage.measure import shannon_entropy"
   ]
  },
  {
   "cell_type": "code",
   "execution_count": null,
   "metadata": {},
   "outputs": [],
   "source": [
    "labels_csv = \"./annotate/labels.csv\"\n",
    "database = pd.read_csv(labels_csv)\n",
    "\n",
    "classes= [\"worm\", \"egg\", \"error\"]\n",
    "classes = np.array(classes)\n",
    "\n",
    "output_model_name = 'worm_type_classifier'\n",
    "train_dataset, test_dataset = train_test_split(database, test_size=0.25, random_state=42)"
   ]
  },
  {
   "cell_type": "code",
   "execution_count": null,
   "metadata": {},
   "outputs": [],
   "source": [
    "def get_features_and_labels(dataframe, classes):\n",
    "    features = []\n",
    "    labels = []\n",
    "\n",
    "    for e in dataframe:\n",
    "        img_path = e[0]\n",
    "        if \"10x\" in img_path:\n",
    "            pixelsize = 0.65\n",
    "        elif \"20x\" in img_path:\n",
    "            pixelsize = 0.325\n",
    "        else:\n",
    "            pixelsize = 0.65\n",
    "        img = imread(img_path)\n",
    "        label = (classes == e[1]).astype(int)\n",
    "        feature = compute_worm_type_features(img, pixelsize)\n",
    "\n",
    "        features.append(feature)\n",
    "        labels.append(label)\n",
    "    \n",
    "    features = np.array(features)\n",
    "    labels = np.array(labels)\n",
    "        \n",
    "    return features, labels\n",
    "\n",
    "train_features, train_labels = get_features_and_labels(train_dataset.values, classes)\n",
    "test_features, test_labels = get_features_and_labels(test_dataset.values, classes)\n",
    "\n",
    "dtrain = xgb.DMatrix(train_features, label=train_labels)\n",
    "dtest = xgb.DMatrix(test_features, label=test_labels)\n",
    "\n",
    "evallist = [(dtrain, 'train'), (dtest, 'eval')]"
   ]
  },
  {
   "cell_type": "code",
   "execution_count": null,
   "metadata": {},
   "outputs": [],
   "source": [
    "param = {'max_depth': 8, 'eta': 0.03, 'objective': \"multi:softmax\", 'num_class':3}\n",
    "param['nthread'] = 32\n",
    "param['eval_metric'] = 'rmse'\n",
    "\n",
    "clf = xgb.XGBClassifier(n_estimators=100, kwargs=param, booster='gbtree')\n",
    "\n",
    "clf.fit(train_features, train_labels)\n",
    "clf.save_model(f'{output_model_name}.json')"
   ]
  },
  {
   "cell_type": "code",
   "execution_count": null,
   "metadata": {},
   "outputs": [],
   "source": [
    "pred_on_test_proba = clf.predict_proba(test_features)\n",
    "errors = abs(pred_on_test_proba - test_labels)\n",
    "print('Mean Absolute Error:', round(np.mean(errors), 6))\n",
    "\n",
    "pred_class = np.argmax(pred_on_test_proba, axis=1)\n",
    "pred_on_test = np.zeros(pred_on_test_proba.shape )\n",
    "pred_on_test[np.arange(pred_on_test.shape[0]), pred_class] = 1\n",
    "mean_class_accuracy_test = clf.score(test_features, test_labels)\n",
    "print('Mean Class Accuracy Train:', round(np.mean(mean_class_accuracy_test), 6))"
   ]
  },
  {
   "cell_type": "code",
   "execution_count": null,
   "metadata": {},
   "outputs": [],
   "source": [
    "correct_predictions = []\n",
    "for pred, ground_truth in zip(pred_on_test, test_labels):\n",
    "    correct_predictions.append(all(pred == ground_truth))\n",
    "\n",
    "correct_predictions = np.array(correct_predictions)\t\n",
    "wrong = np.logical_not(correct_predictions)\n",
    "wrong_idx = np.where(wrong)[0]\n",
    "\n",
    "print(wrong_idx)\n",
    "# wrong_idx = np.where(wrong)[0]\n",
    "for idx in wrong_idx:\n",
    "    plt.imshow(imread(test_dataset.values[idx][0]))\n",
    "    plt.title(\"Predicted: {}, True: {}\".format(classes[np.where(pred_on_test[idx] == 1)[0].squeeze()], classes[np.where(test_labels[idx] == 1)[0].squeeze()]))\n",
    "    plt.show()"
   ]
  }
 ],
 "metadata": {
  "kernelspec": {
   "display_name": "pharynx",
   "language": "python",
   "name": "python3"
  },
  "language_info": {
   "codemirror_mode": {
    "name": "ipython",
    "version": 3
   },
   "file_extension": ".py",
   "mimetype": "text/x-python",
   "name": "python",
   "nbconvert_exporter": "python",
   "pygments_lexer": "ipython3",
   "version": "3.8.10"
  },
  "orig_nbformat": 4
 },
 "nbformat": 4,
 "nbformat_minor": 2
}
